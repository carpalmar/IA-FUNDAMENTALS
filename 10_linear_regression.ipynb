{
  "nbformat": 4,
  "nbformat_minor": 0,
  "metadata": {
    "colab": {
      "provenance": [],
      "include_colab_link": true
    },
    "kernelspec": {
      "name": "python3",
      "display_name": "Python 3"
    },
    "language_info": {
      "name": "python"
    }
  },
  "cells": [
    {
      "cell_type": "markdown",
      "metadata": {
        "id": "view-in-github",
        "colab_type": "text"
      },
      "source": [
        "<a href=\"https://colab.research.google.com/github/carpalmar/IA-FUNDAMENTALS/blob/main/10_linear_regression.ipynb\" target=\"_parent\"><img src=\"https://colab.research.google.com/assets/colab-badge.svg\" alt=\"Open In Colab\"/></a>"
      ]
    },
    {
      "cell_type": "markdown",
      "source": [
        "# Linear Regression with Numpy"
      ],
      "metadata": {
        "id": "5_9smnYeMSNl"
      }
    },
    {
      "cell_type": "markdown",
      "source": [
        "Regresion lineal con numpy. En este caso es una versión simple: $h(x) = wx$"
      ],
      "metadata": {
        "id": "19ILI3KXNUhB"
      }
    },
    {
      "cell_type": "code",
      "execution_count": 1,
      "metadata": {
        "colab": {
          "base_uri": "https://localhost:8080/"
        },
        "id": "wsScFZp624FH",
        "outputId": "96e0fcc8-c302-4b5b-a1d9-dd1555b80248"
      },
      "outputs": [
        {
          "output_type": "stream",
          "name": "stdout",
          "text": [
            "Prediction before training: f(5) = 0.000\n",
            "epoch 1: w = 1.200, loss = 15.000\n",
            "epoch 2: w = 1.680, loss = 2.400\n",
            "epoch 3: w = 1.872, loss = 0.384\n",
            "epoch 4: w = 1.949, loss = 0.061\n",
            "epoch 5: w = 1.980, loss = 0.010\n",
            "epoch 6: w = 1.992, loss = 0.002\n",
            "epoch 7: w = 1.997, loss = 0.000\n",
            "epoch 8: w = 1.999, loss = 0.000\n",
            "epoch 9: w = 1.999, loss = 0.000\n",
            "epoch 10: w = 2.000, loss = 0.000\n",
            "\n",
            "True Y: [2. 4. 6. 8.]\n",
            "Predicted: [1.9997903 3.9995806 5.999371  7.9991612]\n"
          ]
        }
      ],
      "source": [
        "import numpy as np\n",
        "\n",
        "\n",
        "# f = w * x\n",
        "X = np.array( [1, 2, 3, 4], dtype=np.float32 )\n",
        "Y = np.array( [2, 4, 6, 8], dtype=np.float32 )\n",
        "\n",
        "# h = theta_0 * x  solo usaremos un parametro\n",
        "w = 0.0\n",
        "\n",
        "# model prediction\n",
        "def forward(x):\n",
        "  return w * x  # \"x\" y \"y\" son vectores\n",
        "\n",
        "# loss o costo\n",
        "def loss(y, y_pred): # \"y\"  y \"y_pred\" son vectores\n",
        "  return ((y - y_pred)**2).mean()/2\n",
        "\n",
        "# gradientes\n",
        "# MSE = 1/2m * (w*x - y)**2\n",
        "# dJ/dw = 1/m  (w*x - y)*x\n",
        "def gradient(x, y, y_pred):\n",
        "  return np.dot(x, y_pred - y).mean()\n",
        "\n",
        "print(f'Prediction before training: f(5) = {forward(5):.3f}')\n",
        "\n",
        "# training\n",
        "learning_rate = 0.02\n",
        "n_iters = 10\n",
        "\n",
        "#gradiente descendiente (entrenamiento)\n",
        "for epoch in range(n_iters):\n",
        "  # prediction = forward pass\n",
        "  y_pred = forward(X)\n",
        "\n",
        "  # loss, to see how the model works\n",
        "  l = loss(Y, y_pred)\n",
        "\n",
        "  # compute gradients, in this case we just have one parameter\n",
        "  dw = gradient(X, Y, y_pred)\n",
        "\n",
        "  # update weights\n",
        "  w -= learning_rate * dw\n",
        "\n",
        "  if epoch % 1 == 0:\n",
        "    print(f'epoch {epoch+1}: w = {w:.3f}, loss = {l:0.3f}')\n",
        "\n",
        "y_pred = forward(X)\n",
        "print(\"\\nTrue Y:\", Y)\n",
        "print(\"Predicted:\", y_pred)"
      ]
    },
    {
      "cell_type": "markdown",
      "source": [
        "Regresion lineal con numpy. En este caso con dos parametros: $h(x) = w_0 + w_1x$"
      ],
      "metadata": {
        "id": "_3e71WJcNYG_"
      }
    },
    {
      "cell_type": "code",
      "source": [
        "import torch\n",
        "import numpy as np\n",
        "\n",
        "\n",
        "X = np.array( [1, 2, 3, 4], dtype=np.float32 )\n",
        "Y = np.array( [3, 5, 7, 9], dtype=np.float32 )\n",
        "\n",
        "# h = w0 + w1 * x\n",
        "w0 = np.random.rand()\n",
        "w1 = np.random.rand()\n",
        "\n",
        "# model prediction, hipotesis, modelo\n",
        "def forward(x):\n",
        "  return w0 + w1 * x\n",
        "\n",
        "# loss\n",
        "def loss(y, y_pred):\n",
        "  return ((y - y_pred)**2).mean()/2\n",
        "\n",
        "# gradientes\n",
        "# MSE = 1/2m * (w0 + w1*x - y)**2\n",
        "# dJ/dw0 = 1/m (w0 + w1*x - y)\n",
        "# dJ/dw1 = 1/m (w0 + w1*x - y)*x\n",
        "def gradient(x, y, y_pred): # now returns two gradients\n",
        "  return (y_pred - y).mean(), np.dot(x, y_pred - y).mean()\n",
        "\n",
        "print(f'Prediction before training: f(5) = {forward(5):.3f}')\n",
        "\n",
        "# training\n",
        "learning_rate = 0.01\n",
        "n_iters = 20\n",
        "\n",
        "for epoch in range(n_iters):\n",
        "  # predciton = forward pass\n",
        "  y_pred = forward(X)\n",
        "\n",
        "  # loss\n",
        "  l = loss(Y, y_pred)\n",
        "\n",
        "  # gradients\n",
        "  dw0, dw1 = gradient(X, Y, y_pred)\n",
        "\n",
        "  # update weights\n",
        "  w0 -= learning_rate * dw0\n",
        "  w1 -= learning_rate * dw1\n",
        "\n",
        "  if epoch % 1 == 0:\n",
        "    print(f'epoch {epoch+1}: w0 = {w0:.3f}, w1 = {w1:.3f}, loss = {l:0.3f}')\n",
        "\n",
        "y_pred = forward(X)\n",
        "print(\"\\nTrue Y:\", Y)\n",
        "print(\"Predicted:\", y_pred)"
      ],
      "metadata": {
        "colab": {
          "base_uri": "https://localhost:8080/"
        },
        "id": "6dkNnG_iNaZf",
        "outputId": "0a8e9dfa-e5c5-44dc-d26d-05655218c379"
      },
      "execution_count": 2,
      "outputs": [
        {
          "output_type": "stream",
          "name": "stdout",
          "text": [
            "Prediction before training: f(5) = 5.145\n",
            "epoch 1: w0 = 0.541, w1 = 1.298, loss = 5.754\n",
            "epoch 2: w0 = 0.563, w1 = 1.555, loss = 2.759\n",
            "epoch 3: w0 = 0.579, w1 = 1.732, loss = 1.326\n",
            "epoch 4: w0 = 0.589, w1 = 1.854, loss = 0.641\n",
            "epoch 5: w0 = 0.597, w1 = 1.939, loss = 0.313\n",
            "epoch 6: w0 = 0.603, w1 = 1.998, loss = 0.156\n",
            "epoch 7: w0 = 0.607, w1 = 2.038, loss = 0.081\n",
            "epoch 8: w0 = 0.610, w1 = 2.066, loss = 0.045\n",
            "epoch 9: w0 = 0.612, w1 = 2.085, loss = 0.028\n",
            "epoch 10: w0 = 0.614, w1 = 2.098, loss = 0.020\n",
            "epoch 11: w0 = 0.615, w1 = 2.108, loss = 0.016\n",
            "epoch 12: w0 = 0.616, w1 = 2.114, loss = 0.014\n",
            "epoch 13: w0 = 0.617, w1 = 2.118, loss = 0.013\n",
            "epoch 14: w0 = 0.618, w1 = 2.121, loss = 0.013\n",
            "epoch 15: w0 = 0.619, w1 = 2.123, loss = 0.012\n",
            "epoch 16: w0 = 0.620, w1 = 2.124, loss = 0.012\n",
            "epoch 17: w0 = 0.620, w1 = 2.125, loss = 0.012\n",
            "epoch 18: w0 = 0.621, w1 = 2.125, loss = 0.012\n",
            "epoch 19: w0 = 0.622, w1 = 2.126, loss = 0.012\n",
            "epoch 20: w0 = 0.622, w1 = 2.126, loss = 0.012\n",
            "\n",
            "True Y: [3. 5. 7. 9.]\n",
            "Predicted: [2.7481613 4.873943  6.9997244 9.125505 ]\n"
          ]
        }
      ]
    }
  ]
}